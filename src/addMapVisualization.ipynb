{
 "cells": [
  {
   "cell_type": "markdown",
   "id": "7f6b7e5c",
   "metadata": {},
   "source": [
    "# **Create a Map to Visualize Weather Data**"
   ]
  },
  {
   "cell_type": "code",
   "execution_count": null,
   "id": "e1a37132",
   "metadata": {},
   "outputs": [],
   "source": [
    "import geopandas as gpd\n",
    "import contextily as ctx\n",
    "\n",
    "from skimage import io\n",
    "import matplotlib.pyplot as plt\n",
    "from matplotlib.offsetbox import AnnotationBbox, OffsetImage"
   ]
  },
  {
   "cell_type": "code",
   "execution_count": null,
   "id": "b43db3ec",
   "metadata": {},
   "outputs": [],
   "source": [
    "def add_icon(row):\n",
    "    img = io.imread(f\"https://openweathermap.org/img/wn/{row.icon}@2x.png\")\n",
    "    img_offset = OffsetImage(img, zoom=0.4, alpha=1, )\n",
    "\n",
    "    ab = AnnotationBbox(img_offset,[\n",
    "        row.geometry.x+150000, \n",
    "        row.geometry.y-110000\n",
    "    ], frameon=False)\n",
    "\n",
    "def GeoAXIS_PLOT(geo_dataframe: gpd.GeoDataFrame):\n",
    "    ax = geo_dataframe.to_crs(epsg=3857).plot(figsize=(15, 8), color=\"black\")\n",
    "\n",
    "    geo_dataframe.to_crs(epsg=3857).apply(add_icon, axis=1)\n",
    "\n",
    "    geo_dataframe.to_crs(epsg=3857).apply(lambda x: ax.annotate(text=f\"{x.city}  \", \n",
    "                                                  fontsize=10, color=\"black\", \n",
    "                                                  xy=x.geometry.centroid.coords[0], \n",
    "                                                  ha='right'), axis=1);\n",
    "\n",
    "    geo_dataframe.to_crs(epsg=3857).apply(lambda x: ax.annotate(text=f\" {round(x.temp)}°\", \n",
    "                                                  fontsize=15, \n",
    "                                                  color=\"black\", \n",
    "                                                  xy=x.geometry.centroid.coords[0], \n",
    "                                                  ha='left'), axis=1);\n",
    "\n",
    "    xmin, ymin, xmax, ymax = geo_dataframe.to_crs(epsg=3857).total_bounds\n",
    "    margin_y = .2\n",
    "    margin_x = .2\n",
    "    y_margin = (ymax - ymin) * margin_y\n",
    "    x_margin = (xmax - xmin) * margin_x\n",
    "\n",
    "    ax.set_xlim(xmin - x_margin, xmax + x_margin)\n",
    "    ax.set_ylim(ymin - y_margin, ymax + y_margin)\n",
    "\n",
    "    ctx.add_basemap(ax, source=ctx.providers.OpenStreetMap.Mapnik)\n",
    "\n",
    "    ax.set_axis_off()"
   ]
  }
 ],
 "metadata": {
  "kernelspec": {
   "display_name": "Python 3",
   "language": "python",
   "name": "python3"
  },
  "language_info": {
   "name": "python",
   "version": "3.12.11"
  }
 },
 "nbformat": 4,
 "nbformat_minor": 5
}
